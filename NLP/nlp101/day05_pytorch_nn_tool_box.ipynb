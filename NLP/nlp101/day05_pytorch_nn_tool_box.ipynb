{
 "cells": [
  {
   "cell_type": "markdown",
   "metadata": {},
   "source": [
    "day05_pytorch_nn_tool_box"
   ]
  },
  {
   "cell_type": "code",
   "execution_count": 6,
   "metadata": {},
   "outputs": [],
   "source": [
    "import numpy as np\n",
    "import torch\n",
    "from torchvision.datasets import mnist"
   ]
  },
  {
   "cell_type": "code",
   "execution_count": 7,
   "metadata": {},
   "outputs": [],
   "source": [
    "#导入预处理模块\n",
    "import torchvision.transforms as transforms\n",
    "from torch.utils.data import DataLoader\n",
    "#导入nn及优化器\n",
    "import torch.nn.functional as F\n",
    "import torch.optim as optim\n",
    "from torch import nn"
   ]
  },
  {
   "cell_type": "code",
   "execution_count": 8,
   "metadata": {},
   "outputs": [],
   "source": [
    "# 定义一些超参数\n",
    "train_batch_size = 64\n",
    "test_batch_size = 128\n",
    "learning_rate = 0.01\n",
    "num_epoches = 5\n",
    "lr = 0.01\n",
    "momentum = 0.5"
   ]
  },
  {
   "cell_type": "code",
   "execution_count": 9,
   "metadata": {},
   "outputs": [],
   "source": [
    "#定义预处理函数，这些预处理依次放在Compose函数中。\n",
    "transform = transforms.Compose([transforms.ToTensor(),transforms.Normalize([0.5], [0.5])])\n",
    "#下载数据，并对数据进行预处理\n",
    "train_dataset = mnist.MNIST('./data', train=True, transform=transform, download=True)\n",
    "test_dataset = mnist.MNIST('./data', train=False, transform=transform)\n",
    "#dataloader是一个可迭代对象，可以使用迭代器一样使用。\n",
    "train_loader = DataLoader(train_dataset, batch_size=train_batch_size, shuffle=True)\n",
    "test_loader = DataLoader(test_dataset, batch_size=test_batch_size, shuffle=False)"
   ]
  },
  {
   "cell_type": "code",
   "execution_count": 10,
   "metadata": {},
   "outputs": [
    {
     "name": "stdout",
     "output_type": "stream",
     "text": [
      "<torch.utils.data.dataloader.DataLoader object at 0x7fc5fa7edb10>\n"
     ]
    }
   ],
   "source": [
    "print(test_loader)"
   ]
  },
  {
   "cell_type": "markdown",
   "metadata": {},
   "source": [
    "## 可视化源数据"
   ]
  },
  {
   "cell_type": "code",
   "execution_count": 11,
   "metadata": {},
   "outputs": [],
   "source": [
    "import matplotlib.pyplot as plt\n",
    "%matplotlib inline"
   ]
  },
  {
   "cell_type": "code",
   "execution_count": 12,
   "metadata": {},
   "outputs": [],
   "source": [
    "examples = enumerate(test_loader)\n",
    "\n",
    "batch_idx, (example_data, example_targets) = next(examples)"
   ]
  },
  {
   "cell_type": "code",
   "execution_count": 13,
   "metadata": {},
   "outputs": [
    {
     "data": {
      "image/png": "[encoded data removed]",
      "text/plain": [
       "<Figure size 432x288 with 6 Axes>"
      ]
     },
     "metadata": {
      "needs_background": "light"
     },
     "output_type": "display_data"
    }
   ],
   "source": [
    "fig = plt.figure()\n",
    "for i in range(6):\n",
    "    plt.subplot(2,3,i+1)\n",
    "    plt.tight_layout()\n",
    "    # plt.imshow(example_data[i][0], cmap='gray', interpolation='none')\n",
    "    plt.imshow(example_data[i][0], cmap='gray', interpolation='none')\n",
    "    plt.title(\"Ground Truth: {}\".format(example_targets[i]))\n",
    "    #plt.xticks([])\n",
    "    #plt.yticks([])"
   ]
  },
  {
   "cell_type": "code",
   "execution_count": 14,
   "metadata": {},
   "outputs": [],
   "source": [
    "class Net(nn.Module):\n",
    "    def __init__(self, in_dim, n_hidden_1, n_hidden_2, out_dim):\n",
    "        super(Net, self).__init__()\n",
    "        self.layer1 = nn.Sequential(nn.Linear(in_dim, n_hidden_1),nn.BatchNorm1d(n_hidden_1))\n",
    "        self.layer2 = nn.Sequential(nn.Linear(n_hidden_1, n_hidden_2),nn.BatchNorm1d(n_hidden_2))\n",
    "        self.layer3 = nn.Sequential(nn.Linear(n_hidden_2, out_dim))\n",
    "    \n",
    "    def forward(self, x):\n",
    "        x = F.relu(self.layer1(x))\n",
    "        x = F.relu(self.layer2(x))\n",
    "        x = self.layer3(x)\n",
    "        return x"
   ]
  },
  {
   "cell_type": "markdown",
   "metadata": {},
   "source": [
    "## 实例化网络"
   ]
  },
  {
   "cell_type": "code",
   "execution_count": 15,
   "metadata": {},
   "outputs": [
    {
     "name": "stdout",
     "output_type": "stream",
     "text": [
      "cpu\n"
     ]
    }
   ],
   "source": [
    "device = torch.device(\"cuda:0\" if torch.cuda.is_available() else \"cpu\")\n",
    "print(device)"
   ]
  },
  {
   "cell_type": "code",
   "execution_count": 16,
   "metadata": {},
   "outputs": [],
   "source": [
    "model = Net(28*28, 300, 100, 10)"
   ]
  },
  {
   "cell_type": "code",
   "execution_count": 17,
   "metadata": {},
   "outputs": [
    {
     "data": {
      "text/plain": [
       "Net(\n",
       "  (layer1): Sequential(\n",
       "    (0): Linear(in_features=784, out_features=300, bias=True)\n",
       "    (1): BatchNorm1d(300, eps=1e-05, momentum=0.1, affine=True, track_running_stats=True)\n",
       "  )\n",
       "  (layer2): Sequential(\n",
       "    (0): Linear(in_features=300, out_features=100, bias=True)\n",
       "    (1): BatchNorm1d(100, eps=1e-05, momentum=0.1, affine=True, track_running_stats=True)\n",
       "  )\n",
       "  (layer3): Sequential(\n",
       "    (0): Linear(in_features=100, out_features=10, bias=True)\n",
       "  )\n",
       ")"
      ]
     },
     "execution_count": 17,
     "metadata": {},
     "output_type": "execute_result"
    }
   ],
   "source": [
    "model.to(device)"
   ]
  },
  {
   "cell_type": "code",
   "execution_count": 18,
   "metadata": {},
   "outputs": [],
   "source": [
    "criterion = nn.CrossEntropyLoss()"
   ]
  },
  {
   "cell_type": "code",
   "execution_count": 19,
   "metadata": {},
   "outputs": [],
   "source": [
    "optimizer = optim.SGD(model.parameters(), lr=lr, momentum = momentum)"
   ]
  },
  {
   "cell_type": "markdown",
   "metadata": {},
   "source": [
    "## 训练模型"
   ]
  },
  {
   "cell_type": "code",
   "execution_count": 20,
   "metadata": {},
   "outputs": [],
   "source": [
    "# 开始训练"
   ]
  },
  {
   "cell_type": "code",
   "execution_count": 21,
   "metadata": {},
   "outputs": [],
   "source": [
    "losses = []\n",
    "acces = []\n",
    "eval_losses = []\n",
    "eval_acces = []"
   ]
  },
  {
   "cell_type": "code",
   "execution_count": 22,
   "metadata": {},
   "outputs": [
    {
     "name": "stdout",
     "output_type": "stream",
     "text": [
      "epoch: 0, Train Loss: 1.0291, Train Acc: 0.7807, Test Loss: 0.5584, Test Acc: 0.8968\n",
      "epoch: 1, Train Loss: 0.4827, Train Acc: 0.8995, Test Loss: 0.3549, Test Acc: 0.9237\n",
      "epoch: 2, Train Loss: 0.3491, Train Acc: 0.9197, Test Loss: 0.2726, Test Acc: 0.9372\n",
      "epoch: 3, Train Loss: 0.2843, Train Acc: 0.9324, Test Loss: 0.2277, Test Acc: 0.9454\n",
      "epoch: 4, Train Loss: 0.2415, Train Acc: 0.9419, Test Loss: 0.1984, Test Acc: 0.9506\n"
     ]
    }
   ],
   "source": [
    "# 开始训练\n",
    "losses = []\n",
    "acces = []\n",
    "eval_losses = []\n",
    "eval_acces = []\n",
    "\n",
    "\n",
    "for epoch in range(num_epoches):\n",
    "    train_loss = 0\n",
    "    train_acc = 0\n",
    "    model.train()\n",
    "    #动态修改参数学习率\n",
    "    if epoch%5==0:\n",
    "        optimizer.param_groups[0]['lr']*=0.1\n",
    "    for img, label in train_loader:\n",
    "        img=img.to(device)\n",
    "        label = label.to(device)\n",
    "        img = img.view(img.size(0), -1)\n",
    "        # 前向传播\n",
    "        out = model(img)\n",
    "        loss = criterion(out, label)\n",
    "        # 反向传播\n",
    "        optimizer.zero_grad()\n",
    "        loss.backward()\n",
    "        optimizer.step()\n",
    "        # 记录误差\n",
    "        train_loss += loss.item()\n",
    "        # 计算分类的准确率\n",
    "        _, pred = out.max(1)\n",
    "        num_correct = (pred == label).sum().item()\n",
    "        acc = num_correct / img.shape[0]\n",
    "        train_acc += acc\n",
    "        \n",
    "    losses.append(train_loss / len(train_loader))\n",
    "    acces.append(train_acc / len(train_loader))\n",
    "    # 在测试集上检验效果\n",
    "    eval_loss = 0\n",
    "    eval_acc = 0\n",
    "    # 将模型改为预测模式\n",
    "    model.eval()\n",
    "    for img, label in test_loader:\n",
    "        img=img.to(device)\n",
    "        label = label.to(device)\n",
    "        img = img.view(img.size(0), -1)\n",
    "        out = model(img)\n",
    "        loss = criterion(out, label)\n",
    "        # 记录误差\n",
    "        eval_loss += loss.item()\n",
    "        # 记录准确率\n",
    "        _, pred = out.max(1)\n",
    "        num_correct = (pred == label).sum().item()\n",
    "        acc = num_correct / img.shape[0]\n",
    "        eval_acc += acc\n",
    "        \n",
    "    eval_losses.append(eval_loss / len(test_loader))\n",
    "    eval_acces.append(eval_acc / len(test_loader))\n",
    "    print('epoch: {}, Train Loss: {:.4f}, Train Acc: {:.4f}, Test Loss: {:.4f}, Test Acc: {:.4f}'\n",
    "          .format(epoch, train_loss / len(train_loader), train_acc / len(train_loader), \n",
    "                     eval_loss / len(test_loader), eval_acc / len(test_loader)))"
   ]
  },
  {
   "cell_type": "code",
   "execution_count": 23,
   "metadata": {},
   "outputs": [
    {
     "data": {
      "text/plain": [
       "<matplotlib.legend.Legend at 0x7fc602de5610>"
      ]
     },
     "execution_count": 23,
     "metadata": {},
     "output_type": "execute_result"
    },
    {
     "data": {
      "image/png": "[encoded data removed]",
      "text/plain": [
       "<Figure size 432x288 with 1 Axes>"
      ]
     },
     "metadata": {
      "needs_background": "light"
     },
     "output_type": "display_data"
    }
   ],
   "source": [
    "plt.title('train loss')\n",
    "plt.plot(np.arange(len(losses)), losses)\n",
    "plt.legend(['Train Loss'], loc='upper right')"
   ]
  },
  {
   "cell_type": "code",
   "execution_count": 26,
   "metadata": {},
   "outputs": [
    {
     "name": "stdout",
     "output_type": "stream",
     "text": [
      "{'params': [Parameter containing:\n",
      "tensor([[-0.0113, -0.0015, -0.0321,  ...,  0.0257,  0.0348, -0.0071],\n",
      "        [ 0.0110, -0.0005, -0.0351,  ..., -0.0307, -0.0311, -0.0120],\n",
      "        [-0.0154, -0.0332,  0.0320,  ...,  0.0157, -0.0162, -0.0056],\n",
      "        ...,\n",
      "        [ 0.0306, -0.0097, -0.0031,  ...,  0.0266,  0.0029, -0.0211],\n",
      "        [ 0.0282,  0.0131, -0.0321,  ...,  0.0011,  0.0110, -0.0012],\n",
      "        [ 0.0062,  0.0207,  0.0044,  ...,  0.0195, -0.0312, -0.0315]],\n",
      "       requires_grad=True), Parameter containing:\n",
      "tensor([ 9.8244e-04,  7.6345e-03,  1.3813e-02, -2.4148e-02,  2.4515e-02,\n",
      "         2.2658e-02, -1.5516e-02, -3.1095e-02,  5.7560e-03, -2.7507e-02,\n",
      "         2.2905e-02,  4.9885e-03,  3.5349e-02,  2.0276e-02,  9.5277e-03,\n",
      "         1.9069e-02, -5.3518e-03, -6.9996e-04, -1.0057e-02, -1.0663e-02,\n",
      "        -3.5336e-02,  3.0555e-02, -2.5759e-02, -9.0467e-03, -1.7324e-02,\n",
      "         1.7093e-02, -3.4877e-02, -3.2402e-02,  9.6948e-03,  1.9644e-02,\n",
      "        -1.7435e-02,  2.3320e-02,  1.7210e-02,  1.1968e-02,  9.4982e-03,\n",
      "        -9.3877e-05,  1.2349e-02, -3.1458e-02, -8.1614e-03,  3.9245e-03,\n",
      "         7.6178e-04, -3.4682e-02, -6.3334e-03,  2.6832e-03,  2.4035e-02,\n",
      "        -2.2754e-02, -6.2615e-05, -2.6392e-02, -4.6698e-04,  1.7578e-02,\n",
      "         2.1458e-02,  1.6113e-02, -3.3119e-02, -4.9984e-03,  2.2513e-02,\n",
      "         5.4045e-03,  2.8920e-02, -2.9826e-03,  9.8693e-03, -2.4352e-02,\n",
      "         9.6385e-04,  1.5149e-02, -1.8992e-02, -2.7201e-02, -1.2503e-02,\n",
      "         3.1248e-02,  1.4665e-02,  3.9930e-03, -4.3819e-03, -2.5470e-02,\n",
      "         2.7885e-03, -3.0467e-03, -1.0974e-02,  2.5476e-02, -1.1672e-02,\n",
      "        -2.0933e-02, -2.4937e-02, -1.2836e-02, -1.0201e-03, -3.2414e-02,\n",
      "        -7.8727e-03,  4.4387e-03, -1.6405e-02,  3.4930e-02,  3.5267e-02,\n",
      "        -9.4634e-03, -7.3088e-03,  2.4364e-02,  2.6153e-02, -8.8927e-03,\n",
      "        -3.4724e-02, -1.0482e-02, -6.8793e-03,  1.3594e-02,  3.4541e-02,\n",
      "        -2.5496e-02, -2.7896e-02, -2.0748e-02, -8.9619e-04, -2.0767e-02,\n",
      "        -3.4382e-02,  1.2399e-02, -1.3025e-02,  1.2628e-02, -2.9872e-02,\n",
      "         3.2804e-02, -1.6224e-02,  1.9231e-02, -2.7730e-02, -3.4144e-02,\n",
      "         1.4598e-02,  1.5564e-02, -3.4505e-02, -2.8486e-02,  2.9907e-02,\n",
      "        -3.4433e-02,  3.3263e-02,  3.5295e-02,  2.9300e-02,  1.5796e-02,\n",
      "         1.6110e-02, -8.4626e-03,  1.1244e-02, -3.5172e-02,  2.3896e-02,\n",
      "         3.1549e-02,  3.2912e-03, -2.6407e-02,  1.8679e-02, -2.3555e-02,\n",
      "        -3.3092e-02,  4.8245e-03, -3.3349e-02, -4.2631e-03,  1.6034e-03,\n",
      "         3.2673e-02,  4.5996e-03,  1.5097e-02,  1.7255e-02, -4.3023e-03,\n",
      "        -6.2534e-03, -2.0228e-02, -1.7183e-02, -2.0268e-02,  6.8518e-03,\n",
      "        -1.4695e-03,  8.7190e-03, -3.1538e-02, -2.5963e-02,  5.9626e-03,\n",
      "         2.8936e-02, -1.7608e-02, -5.1074e-03, -1.9130e-02, -1.4578e-02,\n",
      "         1.3353e-02,  2.2092e-02, -2.6527e-02,  2.1699e-02, -2.1471e-02,\n",
      "        -2.0915e-02, -6.6784e-03, -3.5393e-02, -1.6114e-02, -3.4052e-02,\n",
      "         1.0629e-03,  1.9121e-02,  1.2928e-02, -1.8783e-02,  3.0273e-02,\n",
      "        -8.6692e-03,  3.0116e-02, -2.8030e-03, -3.2120e-02,  2.6927e-02,\n",
      "        -1.2737e-03,  2.9081e-02, -1.3079e-03,  1.7081e-02,  3.1171e-02,\n",
      "         2.8152e-02, -1.0068e-02, -3.1937e-02,  6.7456e-03, -8.0349e-03,\n",
      "        -2.6710e-02,  2.8335e-03,  9.8583e-03,  2.2179e-02,  3.2558e-02,\n",
      "        -2.7615e-02, -1.6362e-02,  1.3975e-02,  7.8395e-03, -2.0018e-02,\n",
      "         3.2208e-02, -2.5307e-02, -2.2705e-02, -1.2312e-02, -2.1800e-02,\n",
      "        -1.0947e-02,  2.7092e-02, -1.1917e-02,  9.8752e-03, -4.8924e-03,\n",
      "         2.9445e-02, -3.0911e-02,  1.9414e-02, -1.1409e-02, -2.8631e-02,\n",
      "         7.0559e-03,  2.9813e-02, -6.0941e-03, -1.7618e-02, -2.2979e-02,\n",
      "         3.0848e-02, -9.2957e-03,  3.7843e-03, -1.8174e-02,  1.7059e-02,\n",
      "        -1.2021e-02,  4.1292e-03, -3.4347e-02,  1.6284e-03, -2.3534e-02,\n",
      "         6.7173e-03,  3.4541e-02, -2.8755e-02, -1.1909e-02, -3.0823e-02,\n",
      "        -5.4422e-03,  7.2195e-03,  3.4014e-02,  1.6160e-04,  3.0002e-02,\n",
      "         6.3140e-03,  9.9083e-03, -1.5040e-02, -1.7937e-02, -1.8831e-02,\n",
      "        -1.2474e-02,  2.3904e-02,  1.5482e-02, -3.0651e-02, -2.8644e-02,\n",
      "        -8.5409e-03, -1.1667e-03,  1.8103e-02,  2.3124e-02,  3.2564e-02,\n",
      "         6.2747e-03,  9.9155e-03,  3.3827e-02,  1.9318e-02,  2.4476e-02,\n",
      "        -2.2181e-02, -8.7309e-03, -3.9075e-04,  1.7219e-02, -3.4145e-02,\n",
      "        -2.1573e-02,  3.2230e-03, -3.1095e-02,  1.8650e-02, -3.1028e-02,\n",
      "        -3.3809e-02, -7.2816e-03, -2.7799e-02, -1.7888e-02, -1.2835e-02,\n",
      "         2.0363e-02,  2.0097e-02,  3.3762e-02, -6.9672e-03,  2.7507e-02,\n",
      "        -8.9403e-03, -1.3963e-02,  2.6377e-03, -2.0384e-02, -3.2499e-02,\n",
      "         1.1125e-02,  4.4214e-03, -3.4422e-02,  1.0943e-02,  1.5748e-02,\n",
      "        -9.9056e-03, -2.0144e-02,  5.9321e-03,  2.6835e-02,  1.8831e-02,\n",
      "         8.0061e-04,  2.5811e-02,  3.2038e-02,  3.4402e-02,  1.4255e-03,\n",
      "         1.7436e-02, -3.5562e-02, -3.2187e-02,  5.3167e-03, -1.4078e-02],\n",
      "       requires_grad=True), Parameter containing:\n",
      "tensor([1.0030, 0.9976, 0.9975, 0.9984, 1.0009, 1.0029, 1.0012, 0.9998, 0.9963,\n",
      "        1.0010, 0.9976, 0.9995, 0.9985, 1.0017, 1.0053, 1.0004, 1.0009, 1.0013,\n",
      "        0.9974, 0.9974, 0.9970, 1.0027, 1.0028, 1.0000, 0.9961, 0.9978, 0.9964,\n",
      "        0.9982, 0.9971, 1.0012, 1.0021, 0.9950, 1.0056, 1.0005, 1.0010, 0.9975,\n",
      "        0.9991, 1.0005, 1.0005, 0.9984, 1.0001, 0.9991, 1.0019, 1.0013, 0.9993,\n",
      "        1.0028, 0.9957, 1.0000, 1.0066, 0.9990, 1.0008, 1.0044, 0.9970, 0.9984,\n",
      "        1.0006, 1.0035, 0.9980, 1.0009, 0.9994, 1.0035, 1.0020, 1.0003, 0.9973,\n",
      "        1.0025, 0.9986, 1.0017, 1.0017, 0.9952, 1.0006, 0.9976, 0.9983, 1.0002,\n",
      "        1.0025, 1.0030, 0.9980, 0.9985, 0.9999, 1.0050, 0.9998, 1.0048, 1.0023,\n",
      "        1.0036, 0.9992, 0.9970, 0.9978, 1.0034, 0.9999, 1.0028, 0.9986, 0.9956,\n",
      "        1.0025, 1.0019, 0.9996, 0.9980, 1.0028, 1.0003, 0.9980, 0.9986, 1.0045,\n",
      "        1.0004, 0.9994, 0.9961, 0.9973, 1.0021, 1.0002, 1.0018, 0.9981, 1.0046,\n",
      "        1.0019, 1.0005, 0.9985, 0.9983, 1.0037, 0.9995, 1.0008, 0.9974, 0.9992,\n",
      "        0.9996, 0.9998, 0.9989, 0.9980, 1.0013, 0.9973, 0.9980, 0.9992, 0.9970,\n",
      "        0.9998, 0.9998, 0.9979, 1.0048, 0.9994, 1.0013, 1.0029, 1.0066, 0.9977,\n",
      "        1.0003, 0.9979, 0.9998, 0.9997, 0.9979, 1.0058, 0.9991, 0.9976, 0.9960,\n",
      "        0.9987, 0.9988, 0.9988, 0.9989, 0.9982, 1.0026, 0.9959, 0.9983, 0.9995,\n",
      "        1.0022, 1.0050, 1.0008, 1.0035, 1.0055, 1.0024, 1.0015, 1.0000, 0.9976,\n",
      "        0.9971, 1.0002, 1.0026, 1.0016, 1.0013, 0.9960, 1.0006, 0.9965, 1.0009,\n",
      "        1.0002, 0.9972, 0.9978, 0.9988, 0.9969, 1.0005, 1.0022, 0.9969, 1.0001,\n",
      "        1.0010, 1.0026, 0.9983, 0.9998, 0.9991, 1.0022, 0.9998, 0.9986, 1.0015,\n",
      "        1.0034, 1.0004, 1.0007, 1.0019, 1.0025, 1.0032, 0.9996, 0.9981, 1.0001,\n",
      "        0.9978, 0.9992, 0.9997, 0.9975, 0.9984, 0.9987, 0.9998, 1.0016, 1.0006,\n",
      "        1.0015, 1.0011, 0.9957, 1.0010, 0.9982, 1.0003, 1.0019, 1.0009, 0.9998,\n",
      "        0.9996, 1.0000, 0.9965, 0.9999, 0.9980, 0.9984, 1.0007, 0.9994, 0.9964,\n",
      "        0.9998, 1.0020, 0.9986, 0.9990, 0.9965, 1.0011, 1.0001, 0.9992, 0.9981,\n",
      "        0.9977, 0.9983, 1.0019, 0.9985, 0.9996, 1.0006, 0.9971, 0.9986, 0.9980,\n",
      "        0.9974, 1.0001, 0.9959, 1.0024, 1.0040, 1.0026, 1.0023, 0.9971, 0.9990,\n",
      "        0.9991, 0.9986, 1.0002, 0.9955, 1.0035, 1.0130, 0.9966, 0.9978, 0.9994,\n",
      "        1.0019, 1.0040, 0.9992, 1.0012, 1.0017, 0.9996, 1.0000, 1.0042, 1.0002,\n",
      "        1.0025, 0.9984, 1.0005, 1.0014, 0.9984, 0.9954, 0.9948, 0.9978, 1.0029,\n",
      "        1.0026, 1.0001, 0.9991, 1.0022, 1.0023, 1.0003, 0.9969, 1.0013, 1.0010,\n",
      "        1.0041, 1.0002, 0.9949, 1.0017, 0.9989, 0.9985, 1.0011, 1.0021, 0.9993,\n",
      "        0.9999, 1.0001, 1.0004], requires_grad=True), Parameter containing:\n",
      "tensor([ 1.3502e-03, -6.0568e-04, -1.6132e-03, -1.4769e-03,  1.7182e-03,\n",
      "         4.1828e-05,  2.0041e-04, -6.2440e-04, -2.7686e-03,  6.5098e-05,\n",
      "        -1.1568e-03,  6.0385e-04, -7.5956e-04, -3.0521e-04,  3.8888e-03,\n",
      "         7.7908e-04, -2.2163e-03,  1.3463e-04, -8.3470e-04, -3.1109e-03,\n",
      "        -1.6909e-03,  2.4863e-03,  3.2711e-03,  1.5360e-03, -1.0364e-03,\n",
      "        -1.1116e-03, -1.8698e-03, -1.4053e-03, -2.5312e-03,  1.5399e-03,\n",
      "         2.2418e-03, -2.6538e-03,  1.8224e-04, -2.6143e-05,  3.1539e-04,\n",
      "        -6.7279e-04,  1.3024e-03,  4.9365e-04,  4.9986e-04, -1.0215e-03,\n",
      "         5.8723e-04, -7.9016e-04,  1.3453e-03,  1.8387e-03,  5.0600e-04,\n",
      "         1.2018e-03, -1.7755e-03, -5.7811e-04,  3.8927e-03, -9.2226e-04,\n",
      "         9.6764e-05,  2.6671e-03, -2.8487e-03, -5.4344e-04,  5.9581e-04,\n",
      "         9.3800e-04, -1.4873e-03,  3.7038e-04, -6.0821e-04,  7.8253e-04,\n",
      "         1.1789e-04, -7.8324e-04, -2.0892e-03,  9.6918e-04, -1.3031e-03,\n",
      "         1.8672e-03, -8.5059e-04, -2.7174e-03,  6.6458e-04, -2.2003e-03,\n",
      "        -5.6759e-04, -2.5877e-03, -4.8011e-04,  1.0498e-04, -2.2867e-03,\n",
      "         9.6348e-04, -6.0787e-05,  3.3021e-03,  1.5638e-03,  1.3506e-03,\n",
      "         6.6581e-04,  1.1118e-03,  1.4585e-04,  2.2659e-04, -3.1785e-04,\n",
      "         1.9625e-03,  7.8374e-04, -6.2219e-05, -1.8162e-03, -3.2320e-03,\n",
      "        -8.6060e-06,  4.3096e-03, -3.2053e-04, -1.8763e-03,  2.0603e-03,\n",
      "        -9.7380e-04, -2.7488e-03, -4.5436e-03,  5.3847e-03, -1.2299e-04,\n",
      "        -1.9227e-03, -1.4821e-03, -1.7676e-03, -1.8947e-03, -1.5162e-03,\n",
      "        -6.3269e-04, -1.1024e-03,  2.4257e-03,  4.4122e-04,  5.4662e-05,\n",
      "        -1.4267e-03, -2.1829e-03, -8.5133e-04, -1.1724e-03,  2.7838e-03,\n",
      "        -8.3875e-04,  3.0585e-04,  2.5870e-04, -7.2109e-04, -7.5508e-04,\n",
      "         3.1843e-04,  6.9377e-04, -2.1186e-03, -1.4664e-03, -2.8327e-04,\n",
      "        -1.5083e-03,  1.1848e-03, -3.8367e-04,  3.5728e-04, -3.2608e-04,\n",
      "         1.2319e-03, -4.2714e-04, -1.2165e-03, -1.0849e-03,  4.6510e-04,\n",
      "         1.0720e-03, -3.7451e-04, -4.9476e-04, -3.5777e-04, -6.3895e-04,\n",
      "         1.3703e-03, -2.5121e-03, -2.1151e-03, -1.2441e-03, -2.9741e-03,\n",
      "        -1.4766e-03,  5.7642e-04, -2.7217e-03, -7.7513e-04,  1.1806e-03,\n",
      "        -2.5154e-03, -1.7595e-03, -8.1126e-05, -1.7120e-03,  2.3706e-03,\n",
      "         6.9584e-04,  3.2736e-03,  4.3437e-03, -2.4102e-05,  2.7618e-03,\n",
      "         6.4934e-04, -1.3408e-03, -7.8429e-04,  3.5251e-04,  1.0689e-03,\n",
      "        -1.6742e-03, -1.0269e-03, -2.2549e-03,  8.3066e-04, -2.0150e-03,\n",
      "         4.4865e-04,  7.2917e-04, -1.3382e-03, -1.9370e-03, -1.4346e-03,\n",
      "        -2.3984e-03,  3.2002e-03, -9.4940e-04, -1.2152e-03,  1.1210e-03,\n",
      "         1.6383e-03,  1.5599e-03, -1.7119e-03,  5.2147e-04, -6.4291e-04,\n",
      "         1.2905e-03,  1.4300e-03, -5.7853e-04, -7.7500e-04,  2.9480e-03,\n",
      "         7.1801e-04, -5.6025e-04,  6.5512e-04,  1.3408e-03,  2.1418e-03,\n",
      "         1.6225e-04, -1.4472e-03, -8.7390e-04, -1.6332e-03, -1.0018e-04,\n",
      "        -1.1984e-03, -2.9517e-03, -2.2187e-04,  1.1698e-03, -1.8690e-03,\n",
      "        -1.5614e-04,  1.2461e-03, -1.4029e-03, -1.7688e-03, -2.4149e-03,\n",
      "        -5.3138e-04, -1.1400e-03,  5.4027e-04,  1.0984e-03, -1.1716e-03,\n",
      "        -1.2990e-03,  3.3629e-04, -1.5804e-03, -2.2779e-03, -2.4303e-03,\n",
      "         1.0110e-04,  2.1345e-04,  1.5019e-03,  2.0813e-03, -8.6061e-04,\n",
      "         1.7863e-03, -2.9942e-05, -7.6893e-04,  1.3636e-03, -2.1480e-03,\n",
      "        -3.2849e-04,  2.7209e-03, -5.6939e-04, -9.3099e-04, -9.2409e-04,\n",
      "        -6.5103e-04,  1.4750e-03, -8.2749e-04, -1.5660e-03,  1.0978e-04,\n",
      "        -1.6436e-03, -5.3935e-04, -1.4843e-03, -6.6800e-04, -9.2288e-04,\n",
      "        -3.7841e-03,  1.7906e-04, -1.8823e-04,  5.1634e-04, -1.3857e-03,\n",
      "        -1.9582e-03, -5.1283e-04,  1.0823e-03, -1.9408e-04,  6.6902e-04,\n",
      "        -2.0138e-03,  1.0630e-03,  2.5771e-03, -3.1903e-03,  2.5744e-04,\n",
      "         6.1980e-04,  1.2478e-03,  2.6040e-03, -1.6613e-03,  4.1719e-04,\n",
      "        -1.1024e-04, -8.5418e-04,  1.3309e-03,  9.7561e-04,  4.6567e-04,\n",
      "         1.3544e-03, -1.4539e-03,  1.8858e-03,  5.5696e-04, -8.8000e-04,\n",
      "        -1.5991e-03, -2.1265e-03, -7.0688e-04,  1.5888e-03,  2.3316e-04,\n",
      "         1.0400e-03, -7.6699e-04,  1.3248e-04, -3.9107e-04,  2.6563e-04,\n",
      "        -1.9982e-03,  3.4490e-04,  2.2708e-04,  1.2753e-03, -1.3657e-03,\n",
      "        -3.2064e-03, -4.7127e-04, -1.7836e-03, -1.2515e-03,  1.6372e-03,\n",
      "        -1.0011e-03, -2.9280e-04, -2.9464e-04, -2.4229e-04,  2.7473e-03],\n",
      "       requires_grad=True), Parameter containing:\n",
      "tensor([[ 0.0066,  0.0197,  0.0417,  ...,  0.0217, -0.0013, -0.0324],\n",
      "        [-0.0033, -0.0243,  0.0369,  ...,  0.0398,  0.0235, -0.0328],\n",
      "        [-0.0027, -0.0123, -0.0436,  ..., -0.0051,  0.0075, -0.0046],\n",
      "        ...,\n",
      "        [-0.0166, -0.0608, -0.0376,  ...,  0.0424,  0.0080,  0.0543],\n",
      "        [-0.0368, -0.0375, -0.0102,  ...,  0.0433, -0.0286, -0.0229],\n",
      "        [-0.0539, -0.0537,  0.0004,  ...,  0.0463,  0.0163,  0.0388]],\n",
      "       requires_grad=True), Parameter containing:\n",
      "tensor([-0.0199,  0.0330, -0.0151,  0.0363,  0.0172, -0.0267,  0.0425,  0.0570,\n",
      "         0.0150, -0.0318,  0.0528,  0.0207,  0.0302,  0.0399,  0.0345,  0.0259,\n",
      "        -0.0046, -0.0363,  0.0234,  0.0563,  0.0434, -0.0374,  0.0333, -0.0550,\n",
      "         0.0237, -0.0176,  0.0103,  0.0410,  0.0559, -0.0115,  0.0173, -0.0363,\n",
      "        -0.0088,  0.0339,  0.0231,  0.0092,  0.0295, -0.0385,  0.0174, -0.0005,\n",
      "        -0.0005,  0.0518,  0.0515,  0.0355, -0.0149,  0.0070, -0.0190,  0.0112,\n",
      "         0.0109, -0.0238, -0.0226, -0.0127, -0.0128,  0.0499, -0.0031, -0.0364,\n",
      "        -0.0159, -0.0152,  0.0541, -0.0105,  0.0511, -0.0289, -0.0528,  0.0240,\n",
      "         0.0209,  0.0326, -0.0297, -0.0366,  0.0178,  0.0069, -0.0145, -0.0181,\n",
      "        -0.0487,  0.0004, -0.0166, -0.0046,  0.0556,  0.0150,  0.0244, -0.0523,\n",
      "         0.0492, -0.0320,  0.0521,  0.0409,  0.0123,  0.0211,  0.0109,  0.0121,\n",
      "        -0.0245,  0.0360,  0.0468,  0.0063,  0.0052,  0.0391,  0.0421, -0.0261,\n",
      "         0.0411,  0.0197, -0.0254,  0.0003], requires_grad=True), Parameter containing:\n",
      "tensor([1.0536, 1.0340, 1.0242, 1.0189, 1.0190, 1.0291, 1.0298, 1.0259, 1.0297,\n",
      "        1.0305, 1.0361, 1.0463, 1.0370, 1.0556, 1.0481, 1.0467, 1.0451, 1.0316,\n",
      "        1.0350, 1.0510, 1.0329, 1.0319, 1.0364, 1.0416, 1.0325, 1.0281, 1.0418,\n",
      "        1.0289, 1.0397, 1.0313, 1.0346, 1.0335, 1.0298, 1.0226, 1.0730, 1.0531,\n",
      "        1.0373, 1.0180, 1.0438, 1.0313, 1.0436, 1.0347, 1.0378, 1.0320, 1.0528,\n",
      "        1.0267, 1.0335, 1.0391, 1.0409, 1.0399, 1.0389, 1.0395, 1.0356, 1.0371,\n",
      "        1.0437, 1.0495, 1.0416, 1.0385, 1.0468, 1.0198, 1.0700, 1.0317, 1.0240,\n",
      "        1.0224, 1.0369, 1.0400, 1.0437, 1.0322, 1.0381, 1.0496, 1.0241, 1.0521,\n",
      "        1.0378, 1.0248, 1.0435, 1.0218, 1.0475, 1.0477, 1.0405, 1.0346, 1.0399,\n",
      "        1.0412, 1.0400, 1.0367, 1.0341, 1.0191, 1.0237, 1.0289, 1.0448, 1.0435,\n",
      "        1.0140, 1.0444, 1.0209, 1.0480, 1.0093, 1.0273, 1.0324, 1.0468, 1.0317,\n",
      "        1.0227], requires_grad=True), Parameter containing:\n",
      "tensor([0.0274, 0.0258, 0.0136, 0.0143, 0.0144, 0.0204, 0.0217, 0.0161, 0.0164,\n",
      "        0.0270, 0.0123, 0.0320, 0.0279, 0.0290, 0.0222, 0.0371, 0.0385, 0.0202,\n",
      "        0.0251, 0.0243, 0.0173, 0.0210, 0.0235, 0.0229, 0.0269, 0.0217, 0.0285,\n",
      "        0.0238, 0.0155, 0.0301, 0.0282, 0.0155, 0.0197, 0.0156, 0.0338, 0.0290,\n",
      "        0.0276, 0.0113, 0.0353, 0.0264, 0.0289, 0.0225, 0.0282, 0.0200, 0.0189,\n",
      "        0.0203, 0.0225, 0.0251, 0.0269, 0.0290, 0.0331, 0.0211, 0.0288, 0.0207,\n",
      "        0.0302, 0.0315, 0.0290, 0.0231, 0.0250, 0.0026, 0.0488, 0.0199, 0.0155,\n",
      "        0.0154, 0.0098, 0.0205, 0.0273, 0.0265, 0.0296, 0.0328, 0.0180, 0.0351,\n",
      "        0.0195, 0.0128, 0.0323, 0.0212, 0.0291, 0.0307, 0.0313, 0.0208, 0.0288,\n",
      "        0.0277, 0.0282, 0.0209, 0.0174, 0.0126, 0.0158, 0.0191, 0.0237, 0.0278,\n",
      "        0.0125, 0.0378, 0.0140, 0.0358, 0.0069, 0.0221, 0.0192, 0.0326, 0.0222,\n",
      "        0.0149], requires_grad=True), Parameter containing:\n",
      "tensor([[-8.6123e-02, -1.4431e-01, -7.3783e-02, -5.1477e-02, -9.2647e-04,\n",
      "          6.8205e-02,  9.4619e-02,  2.0202e-01,  8.1157e-02,  1.8976e-01,\n",
      "          2.3709e-01, -1.1572e-01, -1.2023e-01, -1.3834e-01, -9.1430e-03,\n",
      "         -1.7279e-02,  1.0076e-01,  5.2617e-02, -1.1678e-01, -9.4371e-02,\n",
      "          1.1822e-01,  2.5542e-02,  2.0846e-01,  7.5515e-02, -1.4036e-01,\n",
      "         -5.2820e-02, -1.2821e-01, -1.0985e-01, -7.1279e-02, -1.4464e-01,\n",
      "         -2.0913e-03,  2.1720e-01,  1.5009e-02, -2.2610e-02, -1.2792e-01,\n",
      "         -5.0521e-02, -6.8386e-02,  3.3284e-02,  9.9911e-02,  9.6254e-02,\n",
      "          1.7478e-01, -3.8053e-02, -1.3041e-01,  1.0655e-01, -6.8075e-02,\n",
      "          4.3078e-02,  7.0355e-03,  1.4764e-03,  3.4165e-02,  1.5681e-01,\n",
      "         -1.1751e-02, -3.3755e-02, -3.5711e-03, -1.1281e-01, -7.3393e-02,\n",
      "          7.4243e-02, -7.3323e-02,  2.4638e-01,  2.3264e-01,  2.7702e-02,\n",
      "         -7.2480e-02, -9.3215e-02, -8.6964e-03, -1.7937e-02,  1.9779e-02,\n",
      "         -6.4090e-02,  2.3365e-01, -1.3507e-01,  1.0082e-01,  3.1814e-02,\n",
      "         -7.1286e-02, -1.3498e-01, -1.3441e-02, -1.0670e-02,  1.0916e-01,\n",
      "         -1.1102e-01, -1.1185e-01, -1.2119e-01, -1.1744e-01, -1.6882e-02,\n",
      "         -1.4213e-01, -1.4293e-01, -8.2847e-02, -7.2200e-02, -5.6542e-02,\n",
      "          2.8025e-02,  1.7407e-01, -5.2934e-02, -7.5955e-03,  3.6336e-02,\n",
      "         -9.0977e-02,  9.8498e-02, -5.5369e-02, -8.7908e-02, -6.0581e-02,\n",
      "         -7.4676e-02, -5.2745e-02, -9.6656e-02, -1.0537e-01, -7.8781e-02],\n",
      "        [ 2.4102e-01,  2.1373e-02, -2.1735e-02,  1.5048e-01, -9.6773e-02,\n",
      "          1.0462e-01, -4.2687e-02, -6.6057e-03, -1.8790e-03, -4.3394e-02,\n",
      "         -6.0389e-02, -2.4973e-04, -9.4873e-02, -1.2188e-01, -5.8264e-02,\n",
      "         -7.6214e-02,  8.0082e-02,  1.4576e-01,  9.1832e-02, -9.2360e-02,\n",
      "         -1.4386e-02, -1.3112e-01, -1.4134e-01, -6.0477e-02, -1.9545e-02,\n",
      "          3.7071e-02,  7.1581e-02,  7.9036e-03,  2.5934e-01, -9.7115e-02,\n",
      "         -9.8178e-02, -2.6215e-02,  7.0829e-02, -9.3387e-03, -1.2956e-01,\n",
      "         -6.6713e-02,  1.8932e-01, -1.1647e-01, -1.3704e-01,  3.8476e-02,\n",
      "         -5.0793e-02, -4.1209e-02, -5.0879e-02, -7.7744e-02, -5.8579e-02,\n",
      "          1.0868e-02, -1.0959e-01, -6.2220e-02, -3.0472e-02, -3.7303e-02,\n",
      "         -1.2851e-01, -4.6432e-02,  7.9562e-02,  1.1929e-01,  2.3167e-01,\n",
      "         -9.5851e-02, -1.2811e-01, -7.2560e-02, -1.3320e-02,  2.0831e-01,\n",
      "          3.0886e-02,  1.6140e-01,  4.9700e-03, -8.4435e-03, -9.5112e-02,\n",
      "         -1.6490e-02,  1.2755e-01,  1.5559e-02, -1.0821e-01, -1.1827e-01,\n",
      "          9.6456e-02, -1.3094e-01,  1.7971e-01, -1.1090e-01,  7.4304e-02,\n",
      "         -8.7527e-02,  2.5555e-02, -6.1955e-02,  1.1443e-01, -1.2442e-01,\n",
      "          1.9625e-01,  1.3667e-02, -6.6879e-02, -1.3460e-01, -3.6376e-02,\n",
      "          1.3882e-01, -1.3565e-01, -1.1352e-02,  2.5178e-01, -1.3983e-01,\n",
      "          1.3144e-01,  1.3230e-01,  1.2534e-01, -1.2816e-01,  2.4518e-02,\n",
      "         -1.2249e-01,  3.4374e-02, -1.2355e-01,  5.5418e-02, -8.0386e-02],\n",
      "        [-8.3356e-02,  4.4115e-02,  1.2783e-01,  8.6130e-02,  2.9468e-02,\n",
      "         -1.0944e-01, -7.9015e-02,  7.0684e-02, -3.6534e-02, -8.9473e-02,\n",
      "          2.5958e-03, -8.1579e-02, -8.0112e-02, -4.2720e-02,  7.6374e-02,\n",
      "         -9.4622e-02, -1.1732e-01, -6.7619e-02, -7.9782e-02, -1.2051e-01,\n",
      "         -4.3047e-02,  1.2327e-01, -1.2499e-01,  2.3905e-02,  1.2563e-01,\n",
      "         -6.7955e-02,  7.6243e-03, -1.6093e-02, -1.9898e-02,  8.7160e-02,\n",
      "         -1.0267e-01,  7.4702e-02, -7.3989e-02,  1.6828e-02, -1.7999e-02,\n",
      "          3.2781e-02,  1.9031e-01,  3.1520e-02,  1.9347e-01,  4.5476e-02,\n",
      "         -1.1769e-01, -1.0957e-01, -9.2274e-02,  1.0232e-01, -6.6145e-02,\n",
      "          1.3247e-01,  1.1874e-01, -9.0625e-02, -3.4006e-02,  2.2027e-03,\n",
      "         -1.1108e-01, -2.5249e-02,  1.1703e-01, -9.8918e-02,  7.4045e-02,\n",
      "         -8.7866e-02, -7.7799e-02, -6.2075e-02,  1.6379e-01, -2.8564e-02,\n",
      "         -8.4927e-02, -1.3772e-01, -5.1228e-02,  1.2319e-01, -8.3594e-02,\n",
      "         -2.3486e-02,  3.3247e-03, -1.0525e-01,  1.2834e-01, -1.2853e-02,\n",
      "          1.1463e-01,  6.7395e-02, -3.4692e-02,  2.7304e-03, -3.5483e-02,\n",
      "          1.2665e-02, -9.8775e-02,  2.1404e-01,  1.0798e-01, -3.3192e-02,\n",
      "         -8.8079e-02,  2.2643e-01,  2.0693e-01, -1.1728e-01,  1.2201e-02,\n",
      "         -1.0890e-01,  1.7811e-02,  1.4171e-01,  1.2025e-01,  2.6599e-01,\n",
      "          4.6095e-02, -9.6680e-02, -3.7170e-02, -4.1719e-02,  1.0913e-01,\n",
      "         -3.0275e-02,  2.2156e-01, -1.0648e-01,  1.9085e-01,  9.6670e-02],\n",
      "        [ 2.0581e-01, -8.6147e-02, -8.6629e-02, -8.7672e-02,  5.3536e-02,\n",
      "         -1.0461e-01, -9.0236e-02, -8.3615e-02,  4.1405e-02, -1.2922e-01,\n",
      "         -8.5397e-02, -2.6447e-02,  2.0720e-01,  4.6458e-02, -5.4489e-02,\n",
      "          8.4452e-02, -1.3456e-01, -1.2642e-01,  9.6991e-02,  2.5676e-01,\n",
      "         -9.9538e-02, -4.8376e-02,  6.1979e-02, -1.1295e-01, -9.5028e-02,\n",
      "          1.5142e-02,  6.8232e-02,  9.7267e-02, -8.7592e-02,  8.8320e-02,\n",
      "         -5.5523e-02, -6.0507e-02, -2.9285e-02,  3.8127e-02, -1.4096e-02,\n",
      "         -1.1027e-01,  5.2187e-02, -7.8579e-02,  2.1938e-01,  1.6480e-01,\n",
      "         -5.0968e-02, -1.1911e-01,  8.5978e-02, -7.6336e-02, -8.9292e-02,\n",
      "         -1.2649e-01,  1.8419e-01,  7.3838e-02, -7.8225e-02,  2.8343e-02,\n",
      "         -1.7633e-02, -1.0518e-01, -1.8300e-02,  6.7205e-02,  1.1992e-01,\n",
      "         -1.3914e-01, -4.9985e-02,  4.8181e-02, -5.0842e-02, -8.2169e-02,\n",
      "          2.5217e-01,  9.3606e-03,  1.8215e-01, -3.3141e-02, -6.8845e-02,\n",
      "         -5.0880e-02, -8.6498e-02,  1.1317e-02,  5.3844e-02,  2.5331e-01,\n",
      "          3.2189e-02,  1.2723e-01, -1.1895e-01,  1.2353e-02,  2.2587e-01,\n",
      "          1.0396e-01, -9.7362e-02,  1.7480e-01, -9.3714e-02,  1.6284e-02,\n",
      "         -1.0934e-01, -9.7132e-02,  3.6997e-02,  2.2583e-01, -6.9972e-02,\n",
      "          1.7920e-02, -1.0828e-01, -8.5956e-02, -9.5026e-02,  2.4793e-02,\n",
      "          5.2695e-02, -8.6259e-02,  1.3033e-01,  5.3077e-02, -2.2915e-02,\n",
      "         -1.1226e-01, -1.9839e-02, -4.1069e-02, -5.6292e-03, -3.5202e-02],\n",
      "        [-1.0780e-02,  1.6209e-01,  1.3122e-01, -1.1204e-01,  8.1091e-02,\n",
      "         -6.5395e-02, -1.2909e-01, -1.6800e-02, -1.2559e-01, -1.0369e-02,\n",
      "          3.9221e-02,  5.3829e-02,  4.9128e-03, -1.0047e-01, -1.0596e-01,\n",
      "          1.1747e-01, -5.2531e-02, -1.3517e-02,  2.1419e-01, -1.1726e-01,\n",
      "         -1.5610e-02, -7.7263e-02, -3.5601e-02, -1.3735e-01,  1.0991e-01,\n",
      "          7.0401e-02, -1.1795e-01,  1.5472e-01, -5.6106e-02,  1.2546e-01,\n",
      "          1.6022e-01, -1.0572e-01, -1.2819e-01, -3.6760e-02, -1.6884e-01,\n",
      "          2.9039e-02,  1.4665e-02, -5.3881e-02, -6.4265e-02, -8.6761e-02,\n",
      "         -6.0907e-02,  1.5648e-01,  1.4727e-01,  1.9176e-01, -5.6864e-02,\n",
      "          1.3762e-01, -7.3922e-02, -8.9008e-02,  7.7612e-03, -2.9435e-02,\n",
      "          1.4630e-01,  2.2160e-01, -3.7135e-02, -9.0858e-02,  2.4980e-02,\n",
      "          1.3466e-01, -8.2289e-02, -5.1848e-02, -8.4870e-03, -9.2328e-02,\n",
      "         -1.2167e-01, -5.7665e-02, -1.2821e-01,  7.2550e-02, -1.0909e-01,\n",
      "         -1.0878e-01, -1.3039e-01,  9.4533e-02, -1.2131e-01, -4.8093e-02,\n",
      "         -1.2287e-01, -6.0192e-02,  1.8104e-02,  1.0800e-01, -1.3315e-01,\n",
      "         -3.0916e-02,  2.3648e-01, -3.0410e-02,  3.1880e-02,  2.2486e-01,\n",
      "          8.0867e-02, -6.5325e-02, -1.3611e-01, -6.8018e-03,  1.6192e-01,\n",
      "         -9.9540e-02, -2.3469e-02, -6.1123e-02, -2.3757e-02, -6.2998e-02,\n",
      "         -8.7485e-02,  1.5452e-02, -5.8355e-02,  1.5112e-01, -4.1581e-02,\n",
      "          2.0116e-01, -6.5664e-02, -7.9368e-02,  1.3742e-02, -4.1497e-02],\n",
      "        [-2.2555e-02,  4.3373e-02, -6.5627e-02,  3.1783e-03,  8.2281e-02,\n",
      "         -1.3122e-01, -7.8630e-02,  2.6104e-02,  1.4137e-01,  1.1909e-01,\n",
      "         -1.0943e-01, -1.6311e-01, -2.6497e-02,  2.9582e-01, -4.4042e-02,\n",
      "          1.3117e-01,  1.5532e-01,  1.6420e-01,  5.9049e-02, -9.7577e-02,\n",
      "         -1.5823e-02, -7.9562e-02,  4.9106e-02,  2.2281e-01, -1.1988e-01,\n",
      "          6.4243e-02, -5.6017e-02,  8.6338e-02,  8.2829e-02,  1.0452e-01,\n",
      "         -1.5574e-01, -1.1720e-01,  4.5805e-04,  6.7802e-02, -1.1781e-01,\n",
      "         -4.3689e-02, -6.3929e-02, -8.3420e-02, -2.3920e-02,  1.7345e-01,\n",
      "          1.3783e-01,  1.1315e-01,  7.5138e-03, -4.9381e-02, -8.1585e-02,\n",
      "         -3.4326e-02, -1.1801e-01,  3.5431e-02,  1.7990e-04, -9.9305e-02,\n",
      "         -1.4382e-01, -3.2277e-02, -1.4921e-01, -2.2587e-02,  8.0419e-02,\n",
      "          2.2144e-01,  1.5437e-01,  1.4415e-01, -1.0791e-01,  1.1860e-02,\n",
      "         -6.7480e-02,  9.2013e-02,  5.9845e-02, -8.5917e-02, -6.2673e-02,\n",
      "         -1.2397e-01, -1.2137e-01,  8.9303e-02,  2.0276e-01,  1.6552e-01,\n",
      "         -3.9304e-02,  2.5777e-01, -2.8387e-02,  2.4241e-02,  1.4804e-01,\n",
      "         -1.3357e-01,  6.2779e-02, -1.0729e-01, -9.8730e-03, -1.2601e-01,\n",
      "          3.0752e-04, -1.0491e-01, -5.7759e-02, -2.6606e-02, -2.6129e-02,\n",
      "          3.2396e-02,  2.9574e-02, -1.0396e-01, -1.2418e-01,  2.8433e-02,\n",
      "          9.1983e-02, -1.3946e-01,  8.3076e-02,  2.2395e-02,  5.1432e-02,\n",
      "          3.1021e-02, -8.1995e-02,  9.7731e-02, -8.7442e-02, -1.1764e-01],\n",
      "        [-2.6110e-02,  1.0315e-01, -2.1157e-02,  3.4049e-02,  1.8275e-01,\n",
      "         -5.7745e-02,  4.4181e-02,  3.8344e-02,  2.0832e-01, -6.7719e-03,\n",
      "          4.7277e-02, -1.1724e-01, -1.1208e-01,  5.7554e-02,  2.8159e-01,\n",
      "          5.9601e-02, -1.3729e-01,  1.0070e-02,  9.3525e-02, -3.9009e-02,\n",
      "          2.2699e-01,  1.5501e-01,  5.3367e-02, -2.3760e-02, -1.7165e-02,\n",
      "         -3.8334e-02,  5.4798e-03, -2.3814e-04,  6.3766e-02, -1.5556e-01,\n",
      "          7.7106e-02,  2.4852e-02, -1.0308e-01, -2.8587e-02, -1.3082e-01,\n",
      "          3.0173e-02, -9.6142e-02,  1.5008e-01, -7.5737e-02,  9.5997e-03,\n",
      "         -1.4792e-01, -5.3289e-02,  1.5650e-02, -7.6532e-02, -1.3034e-01,\n",
      "          7.4798e-03, -7.0955e-02, -9.8834e-03, -1.5023e-01, -4.9739e-02,\n",
      "          1.6092e-02,  5.3187e-02, -8.5966e-02,  1.9867e-01, -1.2912e-01,\n",
      "         -1.2863e-01,  7.6885e-02,  1.5740e-02, -1.2930e-01, -2.8182e-02,\n",
      "         -1.1082e-01, -5.1882e-02, -5.7394e-03, -1.4716e-01,  2.6934e-01,\n",
      "         -2.6397e-02, -1.1809e-01, -3.3887e-02,  2.5959e-03, -8.7189e-02,\n",
      "          1.9613e-01, -9.0144e-02, -1.5646e-02,  7.2121e-02, -1.2029e-01,\n",
      "         -1.4113e-02,  1.8212e-01, -6.3493e-02, -5.1576e-02,  6.2462e-02,\n",
      "          5.6897e-02, -5.4714e-02, -9.5574e-02, -6.9511e-02,  1.4900e-01,\n",
      "          6.9860e-03, -4.2199e-02,  1.8089e-01,  8.8798e-02, -1.5400e-01,\n",
      "          1.7415e-02, -1.2856e-01, -5.1154e-02, -1.0391e-01, -9.2664e-02,\n",
      "          2.0741e-02,  3.0119e-02, -3.5111e-02,  1.1467e-01,  1.1510e-01],\n",
      "        [-6.4662e-02, -2.9014e-02, -8.4312e-02,  8.9835e-02,  5.8118e-03,\n",
      "          1.6160e-01, -6.0721e-02, -1.0288e-01, -9.1645e-02, -9.9359e-02,\n",
      "         -1.0298e-01,  2.3024e-02,  1.1050e-01,  8.3871e-02, -6.6213e-02,\n",
      "         -1.2065e-01, -5.0059e-02, -2.3408e-02,  1.7111e-02, -9.7776e-02,\n",
      "          7.6964e-02, -8.3354e-02,  8.1309e-02,  1.0915e-01, -7.6092e-03,\n",
      "          8.7980e-04,  2.4773e-01, -5.2264e-02, -1.0373e-01,  6.1091e-02,\n",
      "          1.1448e-01, -7.2254e-02,  2.0827e-01, -7.0089e-02, -4.6311e-02,\n",
      "         -8.4456e-02,  1.7724e-02,  1.6786e-02,  3.5484e-02, -1.4377e-01,\n",
      "          1.9725e-01, -1.2173e-01,  2.2699e-01, -6.6469e-02,  2.9000e-01,\n",
      "         -1.0999e-01, -1.0836e-01,  1.4879e-01,  2.1684e-01,  2.1122e-01,\n",
      "         -9.7937e-02, -9.5820e-02,  1.6482e-01, -9.4101e-02, -2.7744e-02,\n",
      "         -1.0764e-01, -9.7188e-02,  2.1867e-02, -1.2855e-01, -4.2761e-02,\n",
      "         -2.7067e-03, -4.3737e-02, -8.4758e-02,  5.0911e-02,  1.4292e-02,\n",
      "          1.9912e-02, -4.7832e-02,  1.8813e-01, -4.7896e-02, -1.2563e-01,\n",
      "         -5.0918e-02, -1.4698e-02,  2.3036e-01,  1.7452e-01, -6.3831e-02,\n",
      "          8.3113e-02, -7.3728e-02, -1.1221e-01, -1.3396e-01, -1.0387e-01,\n",
      "         -1.0560e-01, -2.8636e-02, -2.8596e-02, -1.1192e-02, -1.8534e-02,\n",
      "         -1.1274e-01, -6.3627e-02, -5.0520e-03, -2.9270e-02,  6.0916e-02,\n",
      "          5.9072e-03, -3.5424e-02,  2.6040e-02,  1.3760e-01,  1.3353e-02,\n",
      "          1.2029e-01,  1.3835e-01, -1.1983e-01,  2.3168e-02, -5.5607e-02],\n",
      "        [-1.0745e-01, -1.2403e-01, -4.3485e-02,  4.5432e-02,  2.3239e-02,\n",
      "          6.6901e-02,  1.6291e-01,  3.3961e-02,  1.1791e-02,  9.9190e-02,\n",
      "         -9.7012e-02, -4.3516e-02, -3.2252e-02, -7.2166e-02,  1.8628e-02,\n",
      "          2.4999e-01,  1.6799e-01, -4.2981e-02,  6.7877e-02, -8.5991e-02,\n",
      "         -9.8828e-02, -1.0318e-01, -6.4833e-02, -3.1936e-02,  2.0254e-02,\n",
      "          2.1357e-01, -1.1684e-01,  1.0867e-01, -9.0785e-02, -3.9923e-02,\n",
      "         -9.9229e-02, -1.2711e-01, -3.9846e-04,  2.0718e-01,  2.6094e-02,\n",
      "          2.9173e-01, -1.1658e-01, -7.0658e-03,  9.0751e-03,  3.6226e-02,\n",
      "         -1.1517e-02, -3.2925e-02, -1.3900e-01,  3.7796e-02, -4.6833e-02,\n",
      "          3.5015e-02, -4.0756e-02, -1.2155e-01,  5.4307e-02, -9.1868e-02,\n",
      "          1.3269e-01, -1.1414e-01,  5.9557e-02, -7.3777e-02, -1.4062e-01,\n",
      "         -1.6371e-02,  1.9638e-01,  3.1349e-02,  1.9517e-02, -2.3104e-02,\n",
      "          2.4902e-01,  5.6052e-02, -4.4374e-02, -8.6930e-02,  1.7663e-02,\n",
      "          2.5475e-01,  1.1325e-01,  1.8096e-02, -5.5470e-02, -3.2110e-02,\n",
      "          7.0322e-02,  5.5660e-02,  2.8473e-02, -3.9745e-03, -1.0624e-01,\n",
      "         -2.3282e-02, -4.9689e-02, -2.3586e-02,  2.2762e-01, -4.6858e-02,\n",
      "          3.3470e-02,  5.5068e-03,  3.1233e-02, -6.6975e-02, -9.7224e-02,\n",
      "          1.1396e-02,  2.2828e-02,  6.3540e-02, -4.6542e-02, -7.6069e-02,\n",
      "          4.1462e-02,  1.3939e-01, -1.4812e-02, -1.2138e-01, -3.5407e-02,\n",
      "          4.7817e-02,  2.4426e-02,  2.2148e-01, -2.1573e-02, -7.3459e-02],\n",
      "        [-8.2354e-02,  1.7372e-01,  3.3063e-03, -3.2049e-02,  9.1325e-02,\n",
      "         -4.1776e-02,  1.0717e-01, -1.0873e-01,  2.0580e-02,  1.4247e-01,\n",
      "         -9.7084e-02,  2.5026e-01, -9.7716e-02,  2.1342e-02, -9.8231e-02,\n",
      "         -8.6173e-02, -1.2403e-01, -1.3678e-01, -1.5559e-01,  3.8809e-02,\n",
      "         -2.8253e-02,  1.3817e-02, -1.2312e-01, -8.0126e-02,  1.7485e-01,\n",
      "          1.6045e-01,  4.2013e-02, -1.4764e-01, -4.4463e-02,  1.0573e-01,\n",
      "          6.2453e-02,  3.2799e-02,  5.1211e-02, -5.3621e-02,  3.1727e-01,\n",
      "         -1.4941e-01,  8.2008e-02, -4.0509e-02,  9.6489e-03, -2.3447e-02,\n",
      "          3.2163e-02,  1.0474e-01,  4.6814e-02, -7.1919e-03, -1.0688e-01,\n",
      "         -1.5673e-01,  8.5460e-03,  2.1490e-01,  1.9806e-01,  1.2711e-01,\n",
      "          1.3093e-01,  1.2121e-01, -1.3212e-01, -1.2728e-01, -1.0875e-01,\n",
      "          1.1809e-01,  7.0374e-02, -8.0268e-02, -5.6514e-02,  5.4563e-02,\n",
      "         -9.2801e-02, -1.2742e-01, -1.0475e-01, -7.0339e-02,  4.8181e-02,\n",
      "         -4.6596e-02, -1.2040e-02,  1.5833e-01, -6.9563e-02, -5.1411e-02,\n",
      "          3.6435e-02, -8.0017e-02, -5.5837e-02, -1.3995e-01,  2.4626e-02,\n",
      "          4.9687e-02, -1.0485e-01, -2.8638e-02, -3.6126e-02,  2.7859e-02,\n",
      "          1.7083e-01, -1.2947e-01, -1.4308e-01,  4.6929e-02, -1.5324e-01,\n",
      "         -1.1661e-01,  1.8622e-02, -4.8243e-02, -1.1245e-01,  3.2087e-02,\n",
      "         -5.3871e-03,  1.9733e-01, -5.2953e-02,  2.1372e-01,  7.3943e-03,\n",
      "          1.0480e-01, -4.9724e-02,  1.1954e-01, -1.1398e-01,  5.4554e-02]],\n",
      "       requires_grad=True), Parameter containing:\n",
      "tensor([ 0.0570, -0.0762, -0.0366,  0.0853,  0.0556,  0.0671, -0.0511, -0.0366,\n",
      "         0.0064,  0.0979], requires_grad=True)], 'lr': 0.001, 'momentum': 0.5, 'dampening': 0, 'weight_decay': 0, 'nesterov': False}\n"
     ]
    }
   ],
   "source": [
    "print(optimizer.param_groups[0])"
   ]
  },
  {
   "cell_type": "code",
   "execution_count": null,
   "metadata": {},
   "outputs": [],
   "source": []
  },
  {
   "cell_type": "code",
   "execution_count": 93,
   "metadata": {},
   "outputs": [],
   "source": []
  },
  {
   "cell_type": "code",
   "execution_count": null,
   "metadata": {},
   "outputs": [],
   "source": [
    "\n"
   ]
  },
  {
   "cell_type": "code",
   "execution_count": null,
   "metadata": {},
   "outputs": [],
   "source": [
    "\n"
   ]
  },
  {
   "cell_type": "code",
   "execution_count": null,
   "metadata": {},
   "outputs": [],
   "source": []
  },
  {
   "cell_type": "code",
   "execution_count": null,
   "metadata": {},
   "outputs": [],
   "source": []
  }
 ],
 "metadata": {
  "kernelspec": {
   "display_name": "Python 3",
   "language": "python",
   "name": "python3"
  },
  "language_info": {
   "codemirror_mode": {
    "name": "ipython",
    "version": 3
   },
   "file_extension": ".py",
   "mimetype": "text/x-python",
   "name": "python",
   "nbconvert_exporter": "python",
   "pygments_lexer": "ipython3",
   "version": "3.7.7"
  }
 },
 "nbformat": 4,
 "nbformat_minor": 4
}
